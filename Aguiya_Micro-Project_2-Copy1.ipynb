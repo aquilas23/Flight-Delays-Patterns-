{
 "cells": [
  {
   "cell_type": "markdown",
   "id": "15e5d74f-c136-4aab-bcf2-1d9de6a37d2f",
   "metadata": {},
   "source": [
    "# Analyzing Key Operational Metrics in the Airline Industry\n"
   ]
  },
  {
   "cell_type": "code",
   "execution_count": null,
   "id": "6877a8b9-a421-4154-aa34-55c94db040d4",
   "metadata": {},
   "outputs": [],
   "source": [
    "import pandas as pd\n",
    "import numpy as np\n",
    "\n",
    "# Load the dataset\n",
    "data = pd.read_csv('flights_sample_3m.csv')\n",
    "\n",
    "# Display initial rows \n",
    "data.head(5)\n"
   ]
  },
  {
   "cell_type": "code",
   "execution_count": null,
   "id": "61432a0e-a47d-4ba3-bb25-2ab075682e63",
   "metadata": {},
   "outputs": [],
   "source": [
    "data.info()"
   ]
  },
  {
   "cell_type": "code",
   "execution_count": null,
   "id": "61595902-32b0-4b30-bcb2-bae33f5b893c",
   "metadata": {},
   "outputs": [],
   "source": [
    "# List unique airlines\n",
    "print(\"\\nUnique Airlines in Dataset:\")\n",
    "print(data['AIRLINE'].unique())"
   ]
  },
  {
   "cell_type": "code",
   "execution_count": null,
   "id": "b24c9fbe-0d24-451d-b479-464d107f524c",
   "metadata": {},
   "outputs": [],
   "source": [
    "# Calculate average delay for each airline\n",
    "avg_delay_by_airline = data.groupby('AIRLINE')[['DEP_DELAY', 'ARR_DELAY']].mean().sort_values(by='DEP_DELAY', ascending=False)\n",
    "print(avg_delay_by_airline)"
   ]
  },
  {
   "cell_type": "code",
   "execution_count": null,
   "id": "ae46dcbc-90e7-4c12-87bc-76a7093a301b",
   "metadata": {},
   "outputs": [],
   "source": [
    "# Calculate average delay for each airport\n",
    "avg_delay_by_airport = data.groupby('ORIGIN')[['DEP_DELAY', 'ARR_DELAY']].mean().sort_values(by='DEP_DELAY', ascending=False)\n",
    "print(avg_delay_by_airport)"
   ]
  },
  {
   "cell_type": "code",
   "execution_count": null,
   "id": "0a231df8-9945-4b02-a716-e47c9c6510ce",
   "metadata": {},
   "outputs": [],
   "source": [
    "print(\"Unique values in AIRLINE_CODE column:\")\n",
    "print(data['AIRLINE_CODE'].unique())"
   ]
  },
  {
   "cell_type": "code",
   "execution_count": null,
   "id": "73c9d20e-0ee5-4688-9a4a-63f7cf9bc424",
   "metadata": {},
   "outputs": [],
   "source": [
    "# Then filter based on AIRLINE_CODE:\n",
    "filtered_data = data[data['AIRLINE_CODE'] == 'DL']\n",
    "print(f\"\\nFiltered Data for Delta Airlines: {filtered_data.shape[0]} rows\")\n"
   ]
  },
  {
   "cell_type": "code",
   "execution_count": null,
   "id": "808c6454-5897-43e9-b380-7736951da61b",
   "metadata": {},
   "outputs": [],
   "source": [
    "# Focus on relevant columns\n",
    "selected_columns = ['FL_DATE', 'ORIGIN', 'DEST', 'DEP_DELAY', 'ARR_DELAY', 'CANCELLED', 'CANCELLATION_CODE', \n",
    "                    'DELAY_DUE_CARRIER', 'DELAY_DUE_WEATHER', 'DELAY_DUE_NAS', 'DELAY_DUE_SECURITY', 'DELAY_DUE_LATE_AIRCRAFT']\n",
    "filtered_data = filtered_data[selected_columns]\n",
    "\n",
    "print(\"\\nSelected Columns Overview:\\n\", filtered_data.info())\n"
   ]
  },
  {
   "cell_type": "code",
   "execution_count": null,
   "id": "ece6b7bb-128a-483b-a3c3-b16b728eea18",
   "metadata": {},
   "outputs": [],
   "source": [
    "filtered_data.isnull().sum()"
   ]
  },
  {
   "cell_type": "code",
   "execution_count": null,
   "id": "b87d004f-9c68-4749-a8b1-070962baa771",
   "metadata": {},
   "outputs": [],
   "source": [
    "# Verify the results\n",
    "print(\"\\nRemaining Missing Values:\\n\", filtered_data.isnull().sum())\n"
   ]
  },
  {
   "cell_type": "code",
   "execution_count": null,
   "id": "3d0632bf-3470-4499-b088-757bb80f33ff",
   "metadata": {},
   "outputs": [],
   "source": [
    "# Handle delay columns based on cancellation status: If the flight is canceled, delay values are set to NaN (irrelevant)\n",
    "filtered_data.loc[filtered_data['CANCELLED'] == 1, ['DEP_DELAY', 'ARR_DELAY']] = 0\n",
    "\n",
    "# For non-canceled flights, fill missing delay values with the median\n",
    "delay_columns = ['DEP_DELAY', 'ARR_DELAY']\n",
    "for col in delay_columns:\n",
    "    filtered_data.loc[filtered_data['CANCELLED'] == 0, col] = filtered_data.loc[filtered_data['CANCELLED'] == 0, col].fillna(filtered_data[col].median())\n",
    "\n",
    "# Fill missing values in delay cause columns with 0\n",
    "delay_cause_columns = ['DELAY_DUE_CARRIER', 'DELAY_DUE_WEATHER', 'DELAY_DUE_NAS', \n",
    "                       'DELAY_DUE_SECURITY', 'DELAY_DUE_LATE_AIRCRAFT']\n",
    "filtered_data[delay_cause_columns] = filtered_data[delay_cause_columns].fillna(0)\n",
    "\n",
    "# Fill missing values in CANCELLATION_CODE with 'No Cancellation'\n",
    "filtered_data['CANCELLATION_CODE'].fillna('No Cancellation', inplace=True)\n",
    "\n",
    "# Verify missing values after handling\n",
    "filtered_data.isnull().sum()"
   ]
  },
  {
   "cell_type": "code",
   "execution_count": null,
   "id": "9e7cc2ba-05d9-42c9-af9b-22276bb73f68",
   "metadata": {},
   "outputs": [],
   "source": [
    "filtered_data.head(5)"
   ]
  },
  {
   "cell_type": "code",
   "execution_count": null,
   "id": "bfd55354-166e-4342-a1cb-c90bd87c1597",
   "metadata": {},
   "outputs": [],
   "source": [
    "# Data Summary\n",
    "print(\"\\nSummary Statistics for Filtered Data:\")\n",
    "print(filtered_data.describe())"
   ]
  },
  {
   "cell_type": "code",
   "execution_count": null,
   "id": "fe7d9ac3-5578-4acb-ad22-ae9d8e627ee9",
   "metadata": {},
   "outputs": [],
   "source": [
    "import matplotlib.pyplot as plt\n",
    "import seaborn as sns\n",
    "import plotly.express as px\n"
   ]
  },
  {
   "cell_type": "code",
   "execution_count": null,
   "id": "b52023de-6ea9-4181-bdd5-ce913d237897",
   "metadata": {},
   "outputs": [],
   "source": [
    "# Calculate average delay for each airport based on filtered data\n",
    "avg_delay_by_airport = filtered_data.groupby('ORIGIN')[['DEP_DELAY', 'ARR_DELAY']].mean().sort_values(by='DEP_DELAY', ascending=False)\n",
    "print(avg_delay_by_airport)"
   ]
  },
  {
   "cell_type": "code",
   "execution_count": null,
   "id": "5c12a06d-8f31-46f3-9de1-3aae53015f7e",
   "metadata": {},
   "outputs": [],
   "source": [
    "\n",
    "# Plot top 10 airports with highest average departure delay\n",
    "top_10_airports = avg_delay_by_airport.head(10)\n",
    "\n",
    "plt.figure(figsize=(8, 4))\n",
    "sns.barplot(x=top_10_airports['DEP_DELAY'], y=top_10_airports.index, palette='viridis')\n",
    "plt.title('Top 10 Airports by Average Departure Delay (Filtered for Delta Airlines)', fontsize=16)\n",
    "plt.xlabel('Average Departure Delay (minutes)', fontsize=12)\n",
    "plt.ylabel('Airport Code (ORIGIN)', fontsize=12)\n",
    "plt.xticks(fontsize=10)\n",
    "plt.yticks(fontsize=10)\n",
    "plt.show()\n"
   ]
  },
  {
   "cell_type": "code",
   "execution_count": null,
   "id": "83db68a6-2729-4718-a3f2-22e04e3b3716",
   "metadata": {},
   "outputs": [],
   "source": [
    "# Plot bottom 10 airports with Lowest average departure delay\n",
    "bottom_10_airports = avg_delay_by_airport.tail(10)\n",
    "\n",
    "plt.figure(figsize=(8, 4))\n",
    "sns.barplot(x=bottom_10_airports['DEP_DELAY'], y=bottom_10_airports.index, palette='viridis')\n",
    "plt.title('Bottom 10 Airports by Average Departure Delay (Filtered for Delta Airlines)', fontsize=16)\n",
    "plt.xlabel('Average Departure Delay (minutes)', fontsize=12)\n",
    "plt.ylabel('Airport Code (ORIGIN)', fontsize=12)\n",
    "plt.xticks(fontsize=10)\n",
    "plt.yticks(fontsize=10)\n",
    "plt.show()\n"
   ]
  },
  {
   "cell_type": "code",
   "execution_count": null,
   "id": "85c5d21b-111a-461d-a732-0ddcc13a67ef",
   "metadata": {},
   "outputs": [],
   "source": [
    "# Calculate monthly average delay\n",
    "filtered_data['FL_DATE'] = pd.to_datetime(filtered_data['FL_DATE'])\n",
    "filtered_data['Month'] = filtered_data['FL_DATE'].dt.month\n",
    "\n",
    "monthly_avg_delay = filtered_data.groupby('Month')['DEP_DELAY'].mean()\n",
    "\n",
    "# Plot monthly average delay\n",
    "plt.figure(figsize=(6, 4))\n",
    "sns.lineplot(x=monthly_avg_delay.index, y=monthly_avg_delay.values, marker='o')\n",
    "plt.title('Monthly Average Departure Delay (Filtered for Delta Airlines)', fontsize=16)\n",
    "plt.xlabel('Month', fontsize=12)\n",
    "plt.ylabel('Average Departure Delay (minutes)', fontsize=12)\n",
    "plt.xticks(range(1, 13), labels=['Jan', 'Feb', 'Mar', 'Apr', 'May', 'Jun', 'Jul', 'Aug', 'Sep', 'Oct', 'Nov', 'Dec'], rotation=45)\n",
    "plt.grid(True)\n",
    "plt.show()\n"
   ]
  },
  {
   "cell_type": "code",
   "execution_count": null,
   "id": "4edf23ce-8cb1-40d0-b71a-85c684bec848",
   "metadata": {},
   "outputs": [],
   "source": [
    "# Sum delay causes\n",
    "delay_causes = filtered_data[['DELAY_DUE_CARRIER', 'DELAY_DUE_WEATHER', 'DELAY_DUE_NAS', 'DELAY_DUE_SECURITY', 'DELAY_DUE_LATE_AIRCRAFT']].sum()\n",
    "\n",
    "# Plot delay causes\n",
    "plt.figure(figsize=(6, 4))\n",
    "sns.barplot(x=delay_causes.index, y=delay_causes.values, palette='magma')\n",
    "plt.title('Contribution of Delay Causes (Filtered for Delta Airlines)', fontsize=16)\n",
    "plt.xlabel('Delay Cause', fontsize=12)\n",
    "plt.ylabel('Total Delay (minutes)', fontsize=12)\n",
    "plt.xticks(rotation=45)\n",
    "plt.show()\n"
   ]
  },
  {
   "cell_type": "code",
   "execution_count": null,
   "id": "d6cd061f-0803-4aa2-b2e5-ffe3532e9045",
   "metadata": {},
   "outputs": [],
   "source": [
    "# Count cancellations by month\n",
    "monthly_cancellations = filtered_data[filtered_data['CANCELLED'] == 1].groupby('Month')['CANCELLED'].count()\n",
    "\n",
    "# Plot cancellations by month\n",
    "plt.figure(figsize=(6, 4))\n",
    "sns.barplot(x=monthly_cancellations.index, y=monthly_cancellations.values, palette='Blues_d')\n",
    "plt.title('Monthly Flight Cancellations (Filtered for Delta Airlines)', fontsize=16)\n",
    "plt.xlabel('Month', fontsize=12)\n",
    "plt.ylabel('Number of Cancellations', fontsize=12)\n",
    "plt.xticks(range(1, 13), labels=['Jan', 'Feb', 'Mar', 'Apr', 'May', 'Jun', 'Jul', 'Aug', 'Sep', 'Oct', 'Nov', 'Dec'], rotation=45)\n",
    "plt.show()\n"
   ]
  },
  {
   "cell_type": "code",
   "execution_count": null,
   "id": "65fd4338-d8a5-416e-85de-a6a7064b7d1f",
   "metadata": {},
   "outputs": [],
   "source": []
  },
  {
   "cell_type": "code",
   "execution_count": null,
   "id": "e98b0d5a-a617-4de0-9f95-c5dee96658cb",
   "metadata": {},
   "outputs": [],
   "source": [
    "# Histogram of departure delays for Delta Airlines\n",
    "plt.figure(figsize=(6, 4))\n",
    "sns.histplot(filtered_data['DEP_DELAY'], kde=True, bins=50, color='blue')\n",
    "plt.title('Distribution of Departure Delays (Delta Airlines)', fontsize=16)\n",
    "plt.xlabel('Departure Delay (minutes)', fontsize=12)\n",
    "plt.ylabel('Frequency', fontsize=12)\n",
    "plt.show()"
   ]
  },
  {
   "cell_type": "code",
   "execution_count": null,
   "id": "bf5d94b6-6d48-4525-8a8d-11b2a58b3801",
   "metadata": {},
   "outputs": [],
   "source": [
    "# Histogram of arrival delays for Delta Airlines\n",
    "plt.figure(figsize=(8, 6))\n",
    "sns.histplot(filtered_data['ARR_DELAY'], kde=True, bins=30, color='orange')\n",
    "plt.title('Distribution of Arrival Delays (Delta Airlines)', fontsize=16)\n",
    "plt.xlabel('Arrival Delay (minutes)', fontsize=12)\n",
    "plt.ylabel('Frequency', fontsize=12)\n",
    "plt.show()\n"
   ]
  },
  {
   "cell_type": "code",
   "execution_count": null,
   "id": "0ea907bf-f998-40f1-a582-142f306fe4d0",
   "metadata": {},
   "outputs": [],
   "source": [
    "# Count of cancellations by month for Delta Airlines\n",
    "monthly_cancellations = filtered_data[filtered_data['CANCELLED'] == 1].groupby('Month').size()\n",
    "\n",
    "plt.figure(figsize=(6, 4))\n",
    "sns.barplot(x=monthly_cancellations.index, y=monthly_cancellations.values, palette='coolwarm')\n",
    "plt.title('Number of Cancellations by Month (Delta Airlines)', fontsize=16)\n",
    "plt.xlabel('Month', fontsize=12)\n",
    "plt.ylabel('Number of Cancellations', fontsize=12)\n",
    "plt.show()\n"
   ]
  },
  {
   "cell_type": "code",
   "execution_count": null,
   "id": "0895b87c-2948-41de-bd04-7cfe74fa9dc3",
   "metadata": {},
   "outputs": [],
   "source": [
    "# Correlation heatmap for delay causes for Delta Airlines\n",
    "plt.figure(figsize=(6, 4))\n",
    "corr = filtered_data[delay_cause_columns].corr()\n",
    "sns.heatmap(corr, annot=True, cmap='coolwarm', fmt=\".2f\")\n",
    "plt.title('Correlation Heatmap of Delay Causes (Delta Airlines)', fontsize=16)\n",
    "plt.show()\n"
   ]
  },
  {
   "cell_type": "code",
   "execution_count": null,
   "id": "1fc78e35-c517-4555-8ce5-6e3b1664af8b",
   "metadata": {},
   "outputs": [],
   "source": [
    "# Scatter plot for departure vs. arrival delays\n",
    "fig = px.scatter(filtered_data, x='DEP_DELAY', y='ARR_DELAY', \n",
    "                 title='Departure Delay vs. Arrival Delay',\n",
    "                 labels={'DEP_DELAY': 'Departure Delay (minutes)', 'ARR_DELAY': 'Arrival Delay (minutes)'},\n",
    "                 color='CANCELLED')\n",
    "fig.show()"
   ]
  },
  {
   "cell_type": "code",
   "execution_count": null,
   "id": "15212094-fe41-47b1-8695-9b1a610d206b",
   "metadata": {},
   "outputs": [],
   "source": [
    "from sklearn.model_selection import train_test_split\n",
    "from sklearn.linear_model import LinearRegression\n",
    "from sklearn.metrics import mean_squared_error, r2_score\n",
    "\n",
    "# Prepare data for modeling\n",
    "X = filtered_data[['DEP_DELAY']]\n",
    "y = filtered_data['ARR_DELAY']\n",
    "\n",
    "# Split data into train and test sets\n",
    "X_train, X_test, y_train, y_test = train_test_split(X, y, test_size=0.3, random_state=42)\n"
   ]
  },
  {
   "cell_type": "code",
   "execution_count": null,
   "id": "21caf848-135f-46bf-9bde-166821ae720a",
   "metadata": {},
   "outputs": [],
   "source": [
    "# Train a Linear Regression model\n",
    "model = LinearRegression()\n",
    "model.fit(X_train, y_train)\n"
   ]
  },
  {
   "cell_type": "code",
   "execution_count": null,
   "id": "255116c1-1e47-4508-947a-bc788190f2ed",
   "metadata": {},
   "outputs": [],
   "source": [
    "# Predictions\n",
    "y_pred = model.predict(X_test)\n",
    "\n",
    "# Model evaluation\n",
    "print(\"Mean Squared Error:\", mean_squared_error(y_test, y_pred))\n",
    "print(\"R-squared:\", r2_score(y_test, y_pred))\n"
   ]
  },
  {
   "cell_type": "code",
   "execution_count": null,
   "id": "0b431d45-80ff-49b9-a99e-ad0f2ae1090d",
   "metadata": {},
   "outputs": [],
   "source": [
    "\n",
    "# Plot regression line\n",
    "plt.figure(figsize=(10, 6))\n",
    "sns.regplot(x=y_test, y=y_pred, ci=None, line_kws={\"color\": \"red\"})\n",
    "plt.title('Actual vs Predicted Arrival Delays', fontsize=16)\n",
    "plt.xlabel('Actual Arrival Delay (minutes)', fontsize=12)\n",
    "plt.ylabel('Predicted Arrival Delay (minutes)', fontsize=12)\n",
    "plt.show()\n"
   ]
  }
 ],
 "metadata": {
  "kernelspec": {
   "display_name": "Python 3 (ipykernel)",
   "language": "python",
   "name": "python3"
  },
  "language_info": {
   "codemirror_mode": {
    "name": "ipython",
    "version": 3
   },
   "file_extension": ".py",
   "mimetype": "text/x-python",
   "name": "python",
   "nbconvert_exporter": "python",
   "pygments_lexer": "ipython3",
   "version": "3.12.4"
  }
 },
 "nbformat": 4,
 "nbformat_minor": 5
}
